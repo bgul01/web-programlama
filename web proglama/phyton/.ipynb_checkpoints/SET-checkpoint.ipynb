{
 "cells": [
  {
   "cell_type": "code",
   "execution_count": 1,
   "id": "6d51a828",
   "metadata": {},
   "outputs": [],
   "source": [
    "##casting"
   ]
  },
  {
   "cell_type": "code",
   "execution_count": 4,
   "id": "74948c1f",
   "metadata": {},
   "outputs": [],
   "source": [
    "my_list=[1,2,3,1]"
   ]
  },
  {
   "cell_type": "code",
   "execution_count": 5,
   "id": "69b17317",
   "metadata": {},
   "outputs": [],
   "source": [
    "my_set = set(my_list)"
   ]
  },
  {
   "cell_type": "code",
   "execution_count": 6,
   "id": "135fdc88",
   "metadata": {},
   "outputs": [],
   "source": [
    "## mylisti set e çevirdim"
   ]
  },
  {
   "cell_type": "code",
   "execution_count": 7,
   "id": "4713a85d",
   "metadata": {},
   "outputs": [
    {
     "data": {
      "text/plain": [
       "{1, 2, 3}"
      ]
     },
     "execution_count": 7,
     "metadata": {},
     "output_type": "execute_result"
    }
   ],
   "source": [
    "my_set"
   ]
  },
  {
   "cell_type": "code",
   "execution_count": 8,
   "id": "08afbebd",
   "metadata": {},
   "outputs": [],
   "source": [
    "my_set2={1,2,3,1}"
   ]
  },
  {
   "cell_type": "code",
   "execution_count": 9,
   "id": "73ba9834",
   "metadata": {},
   "outputs": [
    {
     "data": {
      "text/plain": [
       "{1, 2, 3}"
      ]
     },
     "execution_count": 9,
     "metadata": {},
     "output_type": "execute_result"
    }
   ],
   "source": [
    "my_set2"
   ]
  },
  {
   "cell_type": "code",
   "execution_count": 10,
   "id": "b60cce02",
   "metadata": {},
   "outputs": [],
   "source": [
    "## tekrarlayanı almıyor"
   ]
  },
  {
   "cell_type": "code",
   "execution_count": 11,
   "id": "5829bfd7",
   "metadata": {},
   "outputs": [],
   "source": [
    "my_set3={\"a\",\"b\",\"c\"}"
   ]
  },
  {
   "cell_type": "code",
   "execution_count": 13,
   "id": "1b51ece5",
   "metadata": {},
   "outputs": [],
   "source": [
    "my_list4 = set()\n"
   ]
  },
  {
   "cell_type": "markdown",
   "id": "9c2343c9",
   "metadata": {},
   "source": [
    "## boş bir set tamamladıké"
   ]
  },
  {
   "cell_type": "code",
   "execution_count": 14,
   "id": "cc1e833a",
   "metadata": {},
   "outputs": [
    {
     "data": {
      "text/plain": [
       "set()"
      ]
     },
     "execution_count": 14,
     "metadata": {},
     "output_type": "execute_result"
    }
   ],
   "source": [
    "my_list4"
   ]
  },
  {
   "cell_type": "code",
   "execution_count": 15,
   "id": "45c3341d",
   "metadata": {},
   "outputs": [],
   "source": [
    "my_list4.add(1)"
   ]
  },
  {
   "cell_type": "code",
   "execution_count": 16,
   "id": "ac4f4285",
   "metadata": {},
   "outputs": [
    {
     "data": {
      "text/plain": [
       "{1}"
      ]
     },
     "execution_count": 16,
     "metadata": {},
     "output_type": "execute_result"
    }
   ],
   "source": [
    "my_list4"
   ]
  },
  {
   "cell_type": "code",
   "execution_count": 17,
   "id": "53d398b7",
   "metadata": {},
   "outputs": [],
   "source": [
    "## boş dictorany de böyle yapılır"
   ]
  },
  {
   "cell_type": "code",
   "execution_count": 18,
   "id": "deab61a6",
   "metadata": {},
   "outputs": [],
   "source": [
    "my_dict_2 = dict()"
   ]
  },
  {
   "cell_type": "code",
   "execution_count": 20,
   "id": "029daf5f",
   "metadata": {},
   "outputs": [],
   "source": [
    "my_dict_2[\"key1\"]=1"
   ]
  },
  {
   "cell_type": "code",
   "execution_count": 21,
   "id": "00df570f",
   "metadata": {},
   "outputs": [
    {
     "data": {
      "text/plain": [
       "{'key1': 1}"
      ]
     },
     "execution_count": 21,
     "metadata": {},
     "output_type": "execute_result"
    }
   ],
   "source": [
    "my_dict_2"
   ]
  },
  {
   "cell_type": "code",
   "execution_count": null,
   "id": "ce53d46c",
   "metadata": {},
   "outputs": [],
   "source": []
  }
 ],
 "metadata": {
  "kernelspec": {
   "display_name": "Python 3 (ipykernel)",
   "language": "python",
   "name": "python3"
  },
  "language_info": {
   "codemirror_mode": {
    "name": "ipython",
    "version": 3
   },
   "file_extension": ".py",
   "mimetype": "text/x-python",
   "name": "python",
   "nbconvert_exporter": "python",
   "pygments_lexer": "ipython3",
   "version": "3.9.13"
  }
 },
 "nbformat": 4,
 "nbformat_minor": 5
}
