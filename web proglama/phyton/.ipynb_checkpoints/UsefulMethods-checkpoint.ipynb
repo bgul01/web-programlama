{
 "cells": [
  {
   "cell_type": "code",
   "execution_count": 1,
   "id": "4ae32b3a",
   "metadata": {},
   "outputs": [],
   "source": [
    "## range methodu"
   ]
  },
  {
   "cell_type": "code",
   "execution_count": 2,
   "id": "ebc1c46d",
   "metadata": {},
   "outputs": [
    {
     "data": {
      "text/plain": [
       "range(0, 20)"
      ]
     },
     "execution_count": 2,
     "metadata": {},
     "output_type": "execute_result"
    }
   ],
   "source": [
    "range(20)"
   ]
  },
  {
   "cell_type": "code",
   "execution_count": 3,
   "id": "5e9f3b1c",
   "metadata": {},
   "outputs": [
    {
     "data": {
      "text/plain": [
       "[0, 1, 2, 3, 4, 5, 6, 7, 8, 9, 10, 11, 12, 13, 14, 15, 16, 17, 18, 19]"
      ]
     },
     "execution_count": 3,
     "metadata": {},
     "output_type": "execute_result"
    }
   ],
   "source": [
    "list(range(20))"
   ]
  },
  {
   "cell_type": "code",
   "execution_count": 4,
   "id": "b3e43674",
   "metadata": {},
   "outputs": [
    {
     "name": "stdout",
     "output_type": "stream",
     "text": [
      "0\n",
      "5\n",
      "10\n",
      "15\n",
      "20\n",
      "25\n",
      "30\n",
      "35\n",
      "40\n",
      "45\n",
      "50\n",
      "55\n",
      "60\n",
      "65\n",
      "70\n",
      "75\n",
      "80\n",
      "85\n",
      "90\n",
      "95\n"
     ]
    }
   ],
   "source": [
    "for number in list(range(20)):\n",
    "    print(number*5)"
   ]
  },
  {
   "cell_type": "code",
   "execution_count": 5,
   "id": "7a0a05a3",
   "metadata": {},
   "outputs": [
    {
     "data": {
      "text/plain": [
       "range(5, 21)"
      ]
     },
     "execution_count": 5,
     "metadata": {},
     "output_type": "execute_result"
    }
   ],
   "source": [
    "range(5,21)"
   ]
  },
  {
   "cell_type": "code",
   "execution_count": 6,
   "id": "326b0f59",
   "metadata": {},
   "outputs": [
    {
     "data": {
      "text/plain": [
       "range(5, 21, 3)"
      ]
     },
     "execution_count": 6,
     "metadata": {},
     "output_type": "execute_result"
    }
   ],
   "source": [
    "range(5,21,3) ## 3 er 3 er artırma demek"
   ]
  },
  {
   "cell_type": "code",
   "execution_count": 7,
   "id": "e29b85be",
   "metadata": {},
   "outputs": [],
   "source": [
    "##enumerate indexsini yazdırır"
   ]
  },
  {
   "cell_type": "code",
   "execution_count": 8,
   "id": "bedcfd86",
   "metadata": {},
   "outputs": [
    {
     "name": "stdout",
     "output_type": "stream",
     "text": [
      "(0, 0)\n",
      "(1, 1)\n",
      "(2, 2)\n",
      "(3, 3)\n",
      "(4, 4)\n",
      "(5, 5)\n",
      "(6, 6)\n",
      "(7, 7)\n",
      "(8, 8)\n",
      "(9, 9)\n",
      "(10, 10)\n",
      "(11, 11)\n",
      "(12, 12)\n",
      "(13, 13)\n",
      "(14, 14)\n",
      "(15, 15)\n",
      "(16, 16)\n",
      "(17, 17)\n",
      "(18, 18)\n",
      "(19, 19)\n"
     ]
    }
   ],
   "source": [
    "for number in enumerate(list(range(20))):\n",
    "    print(number)"
   ]
  },
  {
   "cell_type": "code",
   "execution_count": 11,
   "id": "c4c1284c",
   "metadata": {},
   "outputs": [
    {
     "name": "stdout",
     "output_type": "stream",
     "text": [
      "0\n",
      "5\n",
      "1\n",
      "6\n",
      "2\n",
      "7\n",
      "3\n",
      "8\n",
      "4\n",
      "9\n",
      "5\n",
      "10\n",
      "6\n",
      "11\n",
      "7\n",
      "12\n",
      "8\n",
      "13\n",
      "9\n",
      "14\n"
     ]
    }
   ],
   "source": [
    "for (index,number) in enumerate(list(range(5,15))):\n",
    "                                print(index)\n",
    "                                print(number)"
   ]
  },
  {
   "cell_type": "code",
   "execution_count": 12,
   "id": "0f5ccf2e",
   "metadata": {},
   "outputs": [],
   "source": [
    "##RANDOM RASTLAGE SAYI OLUŞTURM VS"
   ]
  },
  {
   "cell_type": "code",
   "execution_count": 13,
   "id": "53cf696c",
   "metadata": {},
   "outputs": [],
   "source": [
    "from random import randint"
   ]
  },
  {
   "cell_type": "code",
   "execution_count": 15,
   "id": "f9a413ea",
   "metadata": {},
   "outputs": [
    {
     "data": {
      "text/plain": [
       "827"
      ]
     },
     "execution_count": 15,
     "metadata": {},
     "output_type": "execute_result"
    }
   ],
   "source": [
    "randint(0,900) ## bu aralıtka rastgele sayı geitrir"
   ]
  },
  {
   "cell_type": "code",
   "execution_count": 16,
   "id": "6aa9befd",
   "metadata": {},
   "outputs": [],
   "source": [
    "from random import shuffle"
   ]
  },
  {
   "cell_type": "code",
   "execution_count": null,
   "id": "56af7b3f",
   "metadata": {},
   "outputs": [],
   "source": []
  }
 ],
 "metadata": {
  "kernelspec": {
   "display_name": "Python 3 (ipykernel)",
   "language": "python",
   "name": "python3"
  },
  "language_info": {
   "codemirror_mode": {
    "name": "ipython",
    "version": 3
   },
   "file_extension": ".py",
   "mimetype": "text/x-python",
   "name": "python",
   "nbconvert_exporter": "python",
   "pygments_lexer": "ipython3",
   "version": "3.9.13"
  }
 },
 "nbformat": 4,
 "nbformat_minor": 5
}
