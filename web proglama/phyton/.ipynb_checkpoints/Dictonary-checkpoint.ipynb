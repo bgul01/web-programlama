{
 "cells": [
  {
   "cell_type": "code",
   "execution_count": 1,
   "id": "2832b9d4",
   "metadata": {},
   "outputs": [],
   "source": [
    "my_dictonary = {\"key\":\"value\"}"
   ]
  },
  {
   "cell_type": "code",
   "execution_count": 3,
   "id": "59563f6e",
   "metadata": {},
   "outputs": [
    {
     "data": {
      "text/plain": [
       "'value'"
      ]
     },
     "execution_count": 3,
     "metadata": {},
     "output_type": "execute_result"
    }
   ],
   "source": [
    "my_dictonary[\"key\"]"
   ]
  },
  {
   "cell_type": "code",
   "execution_count": 4,
   "id": "ca60c53b",
   "metadata": {},
   "outputs": [],
   "source": [
    "my_fitness_Dictorny = {\"run\":100,\"swim\":200}"
   ]
  },
  {
   "cell_type": "code",
   "execution_count": 5,
   "id": "7b04a875",
   "metadata": {},
   "outputs": [
    {
     "data": {
      "text/plain": [
       "100"
      ]
     },
     "execution_count": 5,
     "metadata": {},
     "output_type": "execute_result"
    }
   ],
   "source": [
    "my_fitness_Dictorny[\"run\"]"
   ]
  },
  {
   "cell_type": "code",
   "execution_count": 6,
   "id": "9051e764",
   "metadata": {},
   "outputs": [
    {
     "data": {
      "text/plain": [
       "200"
      ]
     },
     "execution_count": 6,
     "metadata": {},
     "output_type": "execute_result"
    }
   ],
   "source": [
    "my_fitness_Dictorny[\"swim\"]"
   ]
  },
  {
   "cell_type": "code",
   "execution_count": 8,
   "id": "fd511b89",
   "metadata": {},
   "outputs": [],
   "source": [
    "my_dictonary2 = {\"key1\":\"1\", \"key2\":\"2\",\"key3\":\"apple\"}"
   ]
  },
  {
   "cell_type": "code",
   "execution_count": 10,
   "id": "b95a5dd4",
   "metadata": {},
   "outputs": [
    {
     "data": {
      "text/plain": [
       "'apple'"
      ]
     },
     "execution_count": 10,
     "metadata": {},
     "output_type": "execute_result"
    }
   ],
   "source": [
    "my_dictonary2[\"key3\"]"
   ]
  },
  {
   "cell_type": "code",
   "execution_count": null,
   "id": "568e3bb0",
   "metadata": {},
   "outputs": [],
   "source": []
  }
 ],
 "metadata": {
  "kernelspec": {
   "display_name": "Python 3 (ipykernel)",
   "language": "python",
   "name": "python3"
  },
  "language_info": {
   "codemirror_mode": {
    "name": "ipython",
    "version": 3
   },
   "file_extension": ".py",
   "mimetype": "text/x-python",
   "name": "python",
   "nbconvert_exporter": "python",
   "pygments_lexer": "ipython3",
   "version": "3.9.13"
  }
 },
 "nbformat": 4,
 "nbformat_minor": 5
}
