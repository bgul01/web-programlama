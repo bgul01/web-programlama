{
 "cells": [
  {
   "cell_type": "code",
   "execution_count": 1,
   "id": "e129494f",
   "metadata": {},
   "outputs": [],
   "source": [
    "my_list = [\"a\",1,\"c\"]"
   ]
  },
  {
   "cell_type": "code",
   "execution_count": 2,
   "id": "390e1be4",
   "metadata": {},
   "outputs": [],
   "source": [
    "my_list[0]= \"b\""
   ]
  },
  {
   "cell_type": "code",
   "execution_count": 3,
   "id": "ce5b0a7c",
   "metadata": {},
   "outputs": [],
   "source": [
    "my_tuple = [\"a\",1,\"c\"]"
   ]
  },
  {
   "cell_type": "code",
   "execution_count": 4,
   "id": "76bf2b59",
   "metadata": {},
   "outputs": [],
   "source": [
    "## tuple de liste gibi dir ama içindeki verileri değiştiremezsin"
   ]
  },
  {
   "cell_type": "code",
   "execution_count": null,
   "id": "95760df1",
   "metadata": {},
   "outputs": [],
   "source": []
  }
 ],
 "metadata": {
  "kernelspec": {
   "display_name": "Python 3 (ipykernel)",
   "language": "python",
   "name": "python3"
  },
  "language_info": {
   "codemirror_mode": {
    "name": "ipython",
    "version": 3
   },
   "file_extension": ".py",
   "mimetype": "text/x-python",
   "name": "python",
   "nbconvert_exporter": "python",
   "pygments_lexer": "ipython3",
   "version": "3.9.13"
  }
 },
 "nbformat": 4,
 "nbformat_minor": 5
}
