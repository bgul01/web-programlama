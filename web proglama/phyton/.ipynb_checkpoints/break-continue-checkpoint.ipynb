{
 "cells": [
  {
   "cell_type": "code",
   "execution_count": 1,
   "id": "cce940e5",
   "metadata": {},
   "outputs": [],
   "source": [
    "my_list = [10,20,30,40]"
   ]
  },
  {
   "cell_type": "code",
   "execution_count": 2,
   "id": "4afd7992",
   "metadata": {},
   "outputs": [
    {
     "name": "stdout",
     "output_type": "stream",
     "text": [
      "50\n",
      "100\n"
     ]
    }
   ],
   "source": [
    "for num in my_list:\n",
    "    if num ==30:\n",
    "        break\n",
    "    print(num*5)"
   ]
  },
  {
   "cell_type": "code",
   "execution_count": 3,
   "id": "dfe35fe4",
   "metadata": {},
   "outputs": [
    {
     "name": "stdout",
     "output_type": "stream",
     "text": [
      "50\n",
      "100\n",
      "200\n"
     ]
    }
   ],
   "source": [
    "for num in my_list:\n",
    "    if num ==30:\n",
    "        continue\n",
    "    print(num*5)"
   ]
  },
  {
   "cell_type": "code",
   "execution_count": 4,
   "id": "9aa47d1a",
   "metadata": {},
   "outputs": [],
   "source": [
    "## break durduru contiune atlayarka devam eder "
   ]
  },
  {
   "cell_type": "code",
   "execution_count": null,
   "id": "c9072a7a",
   "metadata": {},
   "outputs": [],
   "source": []
  }
 ],
 "metadata": {
  "kernelspec": {
   "display_name": "Python 3 (ipykernel)",
   "language": "python",
   "name": "python3"
  },
  "language_info": {
   "codemirror_mode": {
    "name": "ipython",
    "version": 3
   },
   "file_extension": ".py",
   "mimetype": "text/x-python",
   "name": "python",
   "nbconvert_exporter": "python",
   "pygments_lexer": "ipython3",
   "version": "3.9.13"
  }
 },
 "nbformat": 4,
 "nbformat_minor": 5
}
