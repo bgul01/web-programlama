{
 "cells": [
  {
   "cell_type": "code",
   "execution_count": 1,
   "id": "c0c18cb8",
   "metadata": {},
   "outputs": [],
   "source": [
    "my_string  =\"atil\""
   ]
  },
  {
   "cell_type": "code",
   "execution_count": 2,
   "id": "ed21ff6a",
   "metadata": {},
   "outputs": [],
   "source": [
    "##immutability\n"
   ]
  },
  {
   "cell_type": "code",
   "execution_count": 3,
   "id": "4d82f747",
   "metadata": {},
   "outputs": [],
   "source": [
    "my_list = [1,2,3]"
   ]
  },
  {
   "cell_type": "code",
   "execution_count": 4,
   "id": "632a170a",
   "metadata": {},
   "outputs": [
    {
     "data": {
      "text/plain": [
       "1"
      ]
     },
     "execution_count": 4,
     "metadata": {},
     "output_type": "execute_result"
    }
   ],
   "source": [
    "my_list[0]"
   ]
  },
  {
   "cell_type": "code",
   "execution_count": 5,
   "id": "44bcedf0",
   "metadata": {},
   "outputs": [],
   "source": [
    "my_list[0]=5"
   ]
  },
  {
   "cell_type": "code",
   "execution_count": 6,
   "id": "8c9b0d50",
   "metadata": {},
   "outputs": [
    {
     "data": {
      "text/plain": [
       "5"
      ]
     },
     "execution_count": 6,
     "metadata": {},
     "output_type": "execute_result"
    }
   ],
   "source": [
    "my_list[0]"
   ]
  },
  {
   "cell_type": "code",
   "execution_count": null,
   "id": "b45f997b",
   "metadata": {},
   "outputs": [],
   "source": [
    "## mutable deniyor yukardakine"
   ]
  },
  {
   "cell_type": "code",
   "execution_count": 11,
   "id": "aeef3ec1",
   "metadata": {},
   "outputs": [],
   "source": [
    "##append eklemek demek"
   ]
  },
  {
   "cell_type": "code",
   "execution_count": 15,
   "id": "c0bb1cfb",
   "metadata": {},
   "outputs": [],
   "source": [
    "my_list.append(2) \n"
   ]
  },
  {
   "cell_type": "code",
   "execution_count": 16,
   "id": "7ecec27a",
   "metadata": {},
   "outputs": [
    {
     "data": {
      "text/plain": [
       "[5, 2, 3, 7, 7, 7, 2]"
      ]
     },
     "execution_count": 16,
     "metadata": {},
     "output_type": "execute_result"
    }
   ],
   "source": [
    "my_list"
   ]
  },
  {
   "cell_type": "code",
   "execution_count": 17,
   "id": "635da4b3",
   "metadata": {},
   "outputs": [
    {
     "data": {
      "text/plain": [
       "2"
      ]
     },
     "execution_count": 17,
     "metadata": {},
     "output_type": "execute_result"
    }
   ],
   "source": [
    "my_list.pop()"
   ]
  },
  {
   "cell_type": "code",
   "execution_count": 18,
   "id": "0271749d",
   "metadata": {},
   "outputs": [],
   "source": [
    "##listeler iler seviye !!"
   ]
  },
  {
   "cell_type": "code",
   "execution_count": 20,
   "id": "169afa89",
   "metadata": {},
   "outputs": [],
   "source": [
    "##nested  list iç içe geçmiş lsteler"
   ]
  },
  {
   "cell_type": "code",
   "execution_count": 21,
   "id": "5b6874ce",
   "metadata": {},
   "outputs": [],
   "source": [
    "new_list=[1,4,\"a\"]"
   ]
  },
  {
   "cell_type": "code",
   "execution_count": 23,
   "id": "e7c986bd",
   "metadata": {},
   "outputs": [],
   "source": [
    "new_list = [1,4,\"a\",[3,\"c\"]]"
   ]
  },
  {
   "cell_type": "code",
   "execution_count": 25,
   "id": "3dabe845",
   "metadata": {},
   "outputs": [
    {
     "data": {
      "text/plain": [
       "'c'"
      ]
     },
     "execution_count": 25,
     "metadata": {},
     "output_type": "execute_result"
    }
   ],
   "source": [
    "new_list[3][1]"
   ]
  },
  {
   "cell_type": "code",
   "execution_count": null,
   "id": "507a09ff",
   "metadata": {},
   "outputs": [],
   "source": []
  }
 ],
 "metadata": {
  "kernelspec": {
   "display_name": "Python 3 (ipykernel)",
   "language": "python",
   "name": "python3"
  },
  "language_info": {
   "codemirror_mode": {
    "name": "ipython",
    "version": 3
   },
   "file_extension": ".py",
   "mimetype": "text/x-python",
   "name": "python",
   "nbconvert_exporter": "python",
   "pygments_lexer": "ipython3",
   "version": "3.9.13"
  }
 },
 "nbformat": 4,
 "nbformat_minor": 5
}
