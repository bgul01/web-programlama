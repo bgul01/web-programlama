{
 "cells": [
  {
   "cell_type": "code",
   "execution_count": 1,
   "id": "cec9cdba",
   "metadata": {},
   "outputs": [],
   "source": [
    "##indexing\n"
   ]
  },
  {
   "cell_type": "code",
   "execution_count": 3,
   "id": "9f9029cb",
   "metadata": {},
   "outputs": [],
   "source": [
    "my_string  = \"merhaba uzaylı\""
   ]
  },
  {
   "cell_type": "code",
   "execution_count": 4,
   "id": "6d1338fe",
   "metadata": {},
   "outputs": [
    {
     "data": {
      "text/plain": [
       "'m'"
      ]
     },
     "execution_count": 4,
     "metadata": {},
     "output_type": "execute_result"
    }
   ],
   "source": [
    "my_string[0]"
   ]
  },
  {
   "cell_type": "markdown",
   "id": "dae6cd1c",
   "metadata": {},
   "source": [
    "ilk harfi gösterdi"
   ]
  },
  {
   "cell_type": "code",
   "execution_count": 6,
   "id": "16ddc43d",
   "metadata": {},
   "outputs": [
    {
     "data": {
      "text/plain": [
       "'a'"
      ]
     },
     "execution_count": 6,
     "metadata": {},
     "output_type": "execute_result"
    }
   ],
   "source": [
    "my_string[4]"
   ]
  },
  {
   "cell_type": "code",
   "execution_count": 7,
   "id": "459d3dd8",
   "metadata": {},
   "outputs": [
    {
     "data": {
      "text/plain": [
       "'ı'"
      ]
     },
     "execution_count": 7,
     "metadata": {},
     "output_type": "execute_result"
    }
   ],
   "source": [
    "my_string[-1]"
   ]
  },
  {
   "cell_type": "code",
   "execution_count": 8,
   "id": "8c111473",
   "metadata": {},
   "outputs": [],
   "source": [
    "my_string_2  = \"123456789\""
   ]
  },
  {
   "cell_type": "markdown",
   "id": "2a4ba94d",
   "metadata": {},
   "source": [
    "2. indeksten başalat gerisini göster aşağıdaki gibi yapılrı"
   ]
  },
  {
   "cell_type": "code",
   "execution_count": 9,
   "id": "2bee6ba0",
   "metadata": {},
   "outputs": [
    {
     "data": {
      "text/plain": [
       "'3456789'"
      ]
     },
     "execution_count": 9,
     "metadata": {},
     "output_type": "execute_result"
    }
   ],
   "source": [
    "my_string_2[2:]"
   ]
  },
  {
   "cell_type": "code",
   "execution_count": 10,
   "id": "c4f4b774",
   "metadata": {},
   "outputs": [
    {
     "data": {
      "text/plain": [
       "'12'"
      ]
     },
     "execution_count": 10,
     "metadata": {},
     "output_type": "execute_result"
    }
   ],
   "source": [
    "my_string_2[:2]"
   ]
  },
  {
   "cell_type": "code",
   "execution_count": 11,
   "id": "b5c9367b",
   "metadata": {},
   "outputs": [],
   "source": [
    "## stopping index"
   ]
  },
  {
   "cell_type": "code",
   "execution_count": 12,
   "id": "97954237",
   "metadata": {},
   "outputs": [
    {
     "data": {
      "text/plain": [
       "'34'"
      ]
     },
     "execution_count": 12,
     "metadata": {},
     "output_type": "execute_result"
    }
   ],
   "source": [
    "my_string_2[2:4]"
   ]
  },
  {
   "cell_type": "markdown",
   "id": "2c5ca507",
   "metadata": {},
   "source": [
    "#step size"
   ]
  },
  {
   "cell_type": "code",
   "execution_count": 13,
   "id": "9ae65035",
   "metadata": {},
   "outputs": [
    {
     "data": {
      "text/plain": [
       "'147'"
      ]
     },
     "execution_count": 13,
     "metadata": {},
     "output_type": "execute_result"
    }
   ],
   "source": [
    "my_string_2[::3]"
   ]
  },
  {
   "cell_type": "code",
   "execution_count": 14,
   "id": "6f487b01",
   "metadata": {},
   "outputs": [],
   "source": [
    "## üçer üçer atla demek yukarıdaki"
   ]
  },
  {
   "cell_type": "code",
   "execution_count": 15,
   "id": "e488cf18",
   "metadata": {},
   "outputs": [],
   "source": [
    "## sondan başla yaptırmak iç in"
   ]
  },
  {
   "cell_type": "code",
   "execution_count": 16,
   "id": "30abdda4",
   "metadata": {},
   "outputs": [
    {
     "data": {
      "text/plain": [
       "'987654321'"
      ]
     },
     "execution_count": 16,
     "metadata": {},
     "output_type": "execute_result"
    }
   ],
   "source": [
    "my_string_2[::-1]"
   ]
  },
  {
   "cell_type": "code",
   "execution_count": 17,
   "id": "727d5ec6",
   "metadata": {},
   "outputs": [],
   "source": [
    "## string methods"
   ]
  },
  {
   "cell_type": "code",
   "execution_count": 18,
   "id": "8ce68cc0",
   "metadata": {},
   "outputs": [],
   "source": [
    "my_name  = \"atil\""
   ]
  },
  {
   "cell_type": "code",
   "execution_count": 19,
   "id": "0437e1db",
   "metadata": {},
   "outputs": [
    {
     "data": {
      "text/plain": [
       "'Atil'"
      ]
     },
     "execution_count": 19,
     "metadata": {},
     "output_type": "execute_result"
    }
   ],
   "source": [
    "my_name.capitalize()"
   ]
  },
  {
   "cell_type": "code",
   "execution_count": 42,
   "id": "1915eb0b",
   "metadata": {},
   "outputs": [],
   "source": [
    "my_nick = \"ogun\""
   ]
  },
  {
   "cell_type": "code",
   "execution_count": 43,
   "id": "5b77a9d0",
   "metadata": {},
   "outputs": [],
   "source": [
    "my_full_name = my_name + my_nick"
   ]
  },
  {
   "cell_type": "code",
   "execution_count": 44,
   "id": "cd76e064",
   "metadata": {},
   "outputs": [],
   "source": [
    "my_full_name = my_name +\" \" +  my_nick"
   ]
  },
  {
   "cell_type": "code",
   "execution_count": 45,
   "id": "a4a193a7",
   "metadata": {},
   "outputs": [
    {
     "data": {
      "text/plain": [
       "'Atil ogun'"
      ]
     },
     "execution_count": 45,
     "metadata": {},
     "output_type": "execute_result"
    }
   ],
   "source": [
    "my_full_name"
   ]
  },
  {
   "cell_type": "code",
   "execution_count": 46,
   "id": "85c42d79",
   "metadata": {},
   "outputs": [
    {
     "data": {
      "text/plain": [
       "'Atil ogun'"
      ]
     },
     "execution_count": 46,
     "metadata": {},
     "output_type": "execute_result"
    }
   ],
   "source": [
    "my_full_name"
   ]
  },
  {
   "cell_type": "code",
   "execution_count": 47,
   "id": "3bf78ea9",
   "metadata": {},
   "outputs": [
    {
     "data": {
      "text/plain": [
       "'Atil ogun'"
      ]
     },
     "execution_count": 47,
     "metadata": {},
     "output_type": "execute_result"
    }
   ],
   "source": [
    "my_full_name\n"
   ]
  },
  {
   "cell_type": "code",
   "execution_count": 48,
   "id": "5754c968",
   "metadata": {},
   "outputs": [
    {
     "data": {
      "text/plain": [
       "'Atil ogunAtil ogunAtil ogunAtil ogunAtil ogunAtil ogunAtil ogunAtil ogunAtil ogunAtil ogun'"
      ]
     },
     "execution_count": 48,
     "metadata": {},
     "output_type": "execute_result"
    }
   ],
   "source": [
    "my_full_name *10"
   ]
  },
  {
   "cell_type": "code",
   "execution_count": null,
   "id": "883f5576",
   "metadata": {},
   "outputs": [],
   "source": []
  },
  {
   "cell_type": "code",
   "execution_count": null,
   "id": "3353d6a8",
   "metadata": {},
   "outputs": [],
   "source": []
  }
 ],
 "metadata": {
  "kernelspec": {
   "display_name": "Python 3 (ipykernel)",
   "language": "python",
   "name": "python3"
  },
  "language_info": {
   "codemirror_mode": {
    "name": "ipython",
    "version": 3
   },
   "file_extension": ".py",
   "mimetype": "text/x-python",
   "name": "python",
   "nbconvert_exporter": "python",
   "pygments_lexer": "ipython3",
   "version": "3.9.13"
  }
 },
 "nbformat": 4,
 "nbformat_minor": 5
}
