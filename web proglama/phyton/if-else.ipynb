{
 "cells": [
  {
   "cell_type": "code",
   "execution_count": 1,
   "id": "d2d70dc6",
   "metadata": {},
   "outputs": [],
   "source": [
    "x=4"
   ]
  },
  {
   "cell_type": "code",
   "execution_count": 11,
   "id": "580a896a",
   "metadata": {},
   "outputs": [],
   "source": [
    "y=4"
   ]
  },
  {
   "cell_type": "code",
   "execution_count": 16,
   "id": "9f191aae",
   "metadata": {},
   "outputs": [
    {
     "data": {
      "text/plain": [
       "False"
      ]
     },
     "execution_count": 16,
     "metadata": {},
     "output_type": "execute_result"
    }
   ],
   "source": [
    "y>x and 3>2"
   ]
  },
  {
   "cell_type": "code",
   "execution_count": 17,
   "id": "1faeb8aa",
   "metadata": {},
   "outputs": [
    {
     "data": {
      "text/plain": [
       "True"
      ]
     },
     "execution_count": 17,
     "metadata": {},
     "output_type": "execute_result"
    }
   ],
   "source": [
    "2>3 or 5<7"
   ]
  },
  {
   "cell_type": "code",
   "execution_count": 18,
   "id": "c810ab1c",
   "metadata": {},
   "outputs": [
    {
     "data": {
      "text/plain": [
       "False"
      ]
     },
     "execution_count": 18,
     "metadata": {},
     "output_type": "execute_result"
    }
   ],
   "source": [
    "not 10 ==10"
   ]
  },
  {
   "cell_type": "code",
   "execution_count": 19,
   "id": "e9ac4770",
   "metadata": {},
   "outputs": [],
   "source": [
    "## if kontrolü"
   ]
  },
  {
   "cell_type": "code",
   "execution_count": 20,
   "id": "48c741b2",
   "metadata": {},
   "outputs": [
    {
     "name": "stdout",
     "output_type": "stream",
     "text": [
      "eşittir\n"
     ]
    }
   ],
   "source": [
    "if x>y: \n",
    "    print(\"3 bütükyür 2 den\")\n",
    "elif x== y:\n",
    "    print(\"eşittir\")\n",
    "else:print(\"değildir aga \")\n",
    "    \n"
   ]
  },
  {
   "cell_type": "code",
   "execution_count": 33,
   "id": "e86e8c68",
   "metadata": {},
   "outputs": [
    {
     "name": "stdout",
     "output_type": "stream",
     "text": [
      "superhero : max payne\n"
     ]
    }
   ],
   "source": [
    "my_superhero  =input(\"superhero : \")"
   ]
  },
  {
   "cell_type": "code",
   "execution_count": 34,
   "id": "c68c2643",
   "metadata": {},
   "outputs": [
    {
     "name": "stdout",
     "output_type": "stream",
     "text": [
      "super kaharamanın yok aha \n"
     ]
    }
   ],
   "source": [
    "if my_superhero ==\"Batman\":\n",
    "    print(\"super kaharamanın batman\")\n",
    "elif my_superhero == \"superman\":\n",
    "    print(\"super kaharamanın superman\")\n",
    "elif my_superhero == \"spiderman\":\n",
    "    print(\"super kaharamanın spiderman\")\n",
    "else :\n",
    "        print(\"super kaharamanın yok aha \")\n",
    "    "
   ]
  },
  {
   "cell_type": "code",
   "execution_count": 28,
   "id": "90e0e6be",
   "metadata": {},
   "outputs": [],
   "source": [
    "a = 10"
   ]
  },
  {
   "cell_type": "code",
   "execution_count": 29,
   "id": "8fb3d7c5",
   "metadata": {},
   "outputs": [],
   "source": [
    "b=15"
   ]
  },
  {
   "cell_type": "code",
   "execution_count": 32,
   "id": "b9901a2b",
   "metadata": {},
   "outputs": [
    {
     "name": "stdout",
     "output_type": "stream",
     "text": [
      "maxpayne\n"
     ]
    }
   ],
   "source": [
    "if a>b or b>a:\n",
    "    print(\"maxpayne\")"
   ]
  },
  {
   "cell_type": "code",
   "execution_count": 35,
   "id": "53c216ba",
   "metadata": {},
   "outputs": [],
   "source": [
    "my_string = \"hello wprd\""
   ]
  },
  {
   "cell_type": "code",
   "execution_count": 37,
   "id": "7c1d137f",
   "metadata": {},
   "outputs": [
    {
     "name": "stdout",
     "output_type": "stream",
     "text": [
      "true\n"
     ]
    }
   ],
   "source": [
    "if \"hello\" in my_string:\n",
    "    print(\"true\")"
   ]
  },
  {
   "cell_type": "code",
   "execution_count": 38,
   "id": "55787984",
   "metadata": {},
   "outputs": [],
   "source": [
    "## sayida arayabilrsin"
   ]
  },
  {
   "cell_type": "code",
   "execution_count": null,
   "id": "6789303f",
   "metadata": {},
   "outputs": [],
   "source": []
  }
 ],
 "metadata": {
  "kernelspec": {
   "display_name": "Python 3 (ipykernel)",
   "language": "python",
   "name": "python3"
  },
  "language_info": {
   "codemirror_mode": {
    "name": "ipython",
    "version": 3
   },
   "file_extension": ".py",
   "mimetype": "text/x-python",
   "name": "python",
   "nbconvert_exporter": "python",
   "pygments_lexer": "ipython3",
   "version": "3.9.13"
  }
 },
 "nbformat": 4,
 "nbformat_minor": 5
}
