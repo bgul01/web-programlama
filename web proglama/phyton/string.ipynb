{
 "cells": [
  {
   "cell_type": "code",
   "execution_count": 1,
   "id": "f9f09dc8",
   "metadata": {},
   "outputs": [
    {
     "data": {
      "text/plain": [
       "'merhaba dünyalı'"
      ]
     },
     "execution_count": 1,
     "metadata": {},
     "output_type": "execute_result"
    }
   ],
   "source": [
    "\"merhaba dünyalı\""
   ]
  },
  {
   "cell_type": "code",
   "execution_count": 2,
   "id": "a12be9ce",
   "metadata": {},
   "outputs": [],
   "source": [
    " x= \"hello word\""
   ]
  },
  {
   "cell_type": "code",
   "execution_count": 3,
   "id": "924b63c9",
   "metadata": {},
   "outputs": [
    {
     "data": {
      "text/plain": [
       "'hello word'"
      ]
     },
     "execution_count": 3,
     "metadata": {},
     "output_type": "execute_result"
    }
   ],
   "source": [
    "x\n"
   ]
  },
  {
   "cell_type": "code",
   "execution_count": 4,
   "id": "97f1a501",
   "metadata": {},
   "outputs": [
    {
     "data": {
      "text/plain": [
       "str"
      ]
     },
     "execution_count": 4,
     "metadata": {},
     "output_type": "execute_result"
    }
   ],
   "source": [
    "type(x\n",
    "    )"
   ]
  },
  {
   "cell_type": "code",
   "execution_count": 5,
   "id": "2847c58a",
   "metadata": {},
   "outputs": [
    {
     "data": {
      "text/plain": [
       "10"
      ]
     },
     "execution_count": 5,
     "metadata": {},
     "output_type": "execute_result"
    }
   ],
   "source": [
    "len(x)"
   ]
  },
  {
   "cell_type": "markdown",
   "id": "1a19ee92",
   "metadata": {},
   "source": [
    " len x in karakter sayısını veriyor!!\n",
    " "
   ]
  },
  {
   "cell_type": "code",
   "execution_count": 6,
   "id": "41ebb21f",
   "metadata": {},
   "outputs": [
    {
     "ename": "SyntaxError",
     "evalue": "invalid syntax (3457780260.py, line 1)",
     "output_type": "error",
     "traceback": [
      "\u001b[1;36m  File \u001b[1;32m\"C:\\Users\\PC\\AppData\\Local\\Temp\\ipykernel_1452\\3457780260.py\"\u001b[1;36m, line \u001b[1;32m1\u001b[0m\n\u001b[1;33m    escape characters\u001b[0m\n\u001b[1;37m           ^\u001b[0m\n\u001b[1;31mSyntaxError\u001b[0m\u001b[1;31m:\u001b[0m invalid syntax\n"
     ]
    }
   ],
   "source": [
    "escape characters"
   ]
  },
  {
   "cell_type": "markdown",
   "id": "0bf6dca5",
   "metadata": {},
   "source": [
    "escape characters"
   ]
  },
  {
   "cell_type": "code",
   "execution_count": 7,
   "id": "18be8036",
   "metadata": {},
   "outputs": [
    {
     "ename": "SyntaxError",
     "evalue": "EOL while scanning string literal (3046170952.py, line 1)",
     "output_type": "error",
     "traceback": [
      "\u001b[1;36m  File \u001b[1;32m\"C:\\Users\\PC\\AppData\\Local\\Temp\\ipykernel_1452\\3046170952.py\"\u001b[1;36m, line \u001b[1;32m1\u001b[0m\n\u001b[1;33m    print(\"hello pyhton\u001b[0m\n\u001b[1;37m                       ^\u001b[0m\n\u001b[1;31mSyntaxError\u001b[0m\u001b[1;31m:\u001b[0m EOL while scanning string literal\n"
     ]
    }
   ],
   "source": [
    "print(\"hello pyhton\n",
    "      \")"
   ]
  },
  {
   "cell_type": "code",
   "execution_count": 8,
   "id": "df1ec47f",
   "metadata": {},
   "outputs": [
    {
     "name": "stdout",
     "output_type": "stream",
     "text": [
      "merhaba\n"
     ]
    }
   ],
   "source": [
    "print(\"merhaba\")"
   ]
  },
  {
   "cell_type": "markdown",
   "id": "7548d2be",
   "metadata": {},
   "source": [
    "ALT SATIRA YAZDIRMA!!1"
   ]
  },
  {
   "cell_type": "code",
   "execution_count": 9,
   "id": "4c7695f6",
   "metadata": {},
   "outputs": [
    {
     "name": "stdout",
     "output_type": "stream",
     "text": [
      "merhaba \n",
      " berat\n"
     ]
    }
   ],
   "source": [
    "print(\"merhaba \\n berat\")"
   ]
  },
  {
   "cell_type": "code",
   "execution_count": 10,
   "id": "f94af748",
   "metadata": {},
   "outputs": [
    {
     "ename": "SyntaxError",
     "evalue": "invalid syntax (1238786356.py, line 1)",
     "output_type": "error",
     "traceback": [
      "\u001b[1;36m  File \u001b[1;32m\"C:\\Users\\PC\\AppData\\Local\\Temp\\ipykernel_1452\\1238786356.py\"\u001b[1;36m, line \u001b[1;32m1\u001b[0m\n\u001b[1;33m    t kadar boşluk bırakır\u001b[0m\n\u001b[1;37m      ^\u001b[0m\n\u001b[1;31mSyntaxError\u001b[0m\u001b[1;31m:\u001b[0m invalid syntax\n"
     ]
    }
   ],
   "source": [
    "t kadar boşluk bırakır"
   ]
  },
  {
   "cell_type": "code",
   "execution_count": 11,
   "id": "01af118d",
   "metadata": {},
   "outputs": [
    {
     "name": "stdout",
     "output_type": "stream",
     "text": [
      " merhaba \tberat\n"
     ]
    }
   ],
   "source": [
    "print(\" merhaba \\tberat\")"
   ]
  },
  {
   "cell_type": "code",
   "execution_count": null,
   "id": "5db48466",
   "metadata": {},
   "outputs": [],
   "source": []
  }
 ],
 "metadata": {
  "kernelspec": {
   "display_name": "Python 3 (ipykernel)",
   "language": "python",
   "name": "python3"
  },
  "language_info": {
   "codemirror_mode": {
    "name": "ipython",
    "version": 3
   },
   "file_extension": ".py",
   "mimetype": "text/x-python",
   "name": "python",
   "nbconvert_exporter": "python",
   "pygments_lexer": "ipython3",
   "version": "3.9.13"
  }
 },
 "nbformat": 4,
 "nbformat_minor": 5
}
